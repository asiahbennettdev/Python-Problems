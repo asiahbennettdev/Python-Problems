{
 "cells": [
  {
   "cell_type": "code",
   "execution_count": 1,
   "id": "cd918535",
   "metadata": {},
   "outputs": [],
   "source": [
    "import sys\n",
    "import random"
   ]
  },
  {
   "cell_type": "code",
   "execution_count": null,
   "id": "a26ae35f",
   "metadata": {},
   "outputs": [
    {
     "name": "stdout",
     "output_type": "stream",
     "text": [
      "Ask the magic 8 ball a question: (press enter to quit)Will Kentucky be fun?\n",
      "It is certain\n",
      "Ask the magic 8 ball a question: (press enter to quit)Will I have an airline cocktail?\n",
      "Ask again later\n",
      "Ask the magic 8 ball a question: (press enter to quit)Will I have an airline cocktail on the house?\n",
      "You may rely on it\n"
     ]
    }
   ],
   "source": [
    "ans = True \n",
    "\n",
    "while ans:\n",
    "    question = input('Ask the magic 8 ball a question: (press enter to quit)')\n",
    "    answers = random.randint(1,8)\n",
    "    if question == \"\":\n",
    "       sys.exit()\n",
    "\n",
    "    elif answers == 1:\n",
    "        print (\"outlook good\")\n",
    "Wi\n",
    "    elif answers == 2:\n",
    "        print (\"It is certain\")\n",
    "\n",
    "    elif answers == 3:\n",
    "        print (\"You may rely on it\")\n",
    "\n",
    "    elif answers == 4:\n",
    "        print (\"Ask again later\")\n",
    "\n",
    "    elif answers == 5:\n",
    "        print (\"Concentrate and ask again\")\n",
    "\n",
    "    elif answers == 6:\n",
    "        print (\"Reply hazy, try again\")\n",
    "\n",
    "    elif answers == 7:\n",
    "        print (\"My reply is no\")\n",
    "\n",
    "    elif answers == 8:\n",
    "        print (\"My sources say no\")\n",
    "    \n",
    "        \n",
    "return answer"
   ]
  },
  {
   "cell_type": "code",
   "execution_count": null,
   "id": "2f253d6c",
   "metadata": {},
   "outputs": [],
   "source": []
  }
 ],
 "metadata": {
  "kernelspec": {
   "display_name": "Python 3 (ipykernel)",
   "language": "python",
   "name": "python3"
  },
  "language_info": {
   "codemirror_mode": {
    "name": "ipython",
    "version": 3
   },
   "file_extension": ".py",
   "mimetype": "text/x-python",
   "name": "python",
   "nbconvert_exporter": "python",
   "pygments_lexer": "ipython3",
   "version": "3.8.3"
  }
 },
 "nbformat": 4,
 "nbformat_minor": 5
}

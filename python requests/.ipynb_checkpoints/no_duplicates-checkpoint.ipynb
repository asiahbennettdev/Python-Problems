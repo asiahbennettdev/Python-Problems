{
 "cells": [
  {
   "cell_type": "code",
   "execution_count": 16,
   "id": "5783e942",
   "metadata": {},
   "outputs": [],
   "source": [
    "cars = [\n",
    "    {'car': 'Honda', 'year': 2004, 'model': 'civic', 'color': 'red'},\n",
    "    {'car': 'Chevy', 'year': 2014, 'model': 'malibu', 'color': 'black'},\n",
    "    {'car': 'Ford', 'year': 2013, 'model': 'escape', 'color': 'blue'},\n",
    "    {'car': 'Tesla', 'year': 2020, 'model': 's', 'color': 'white'},\n",
    "    {'car': 'Kia', 'year': 2012, 'model': 'soul', 'color': 'white'}\n",
    "]\n",
    "\n",
    "data = [1,2,3,4,4,5,6,6,2]"
   ]
  },
  {
   "cell_type": "code",
   "execution_count": 17,
   "id": "8b1ec006",
   "metadata": {},
   "outputs": [
    {
     "name": "stdout",
     "output_type": "stream",
     "text": [
      "[1, 2, 3, 4, 5, 6]\n"
     ]
    }
   ],
   "source": [
    "def remove_duplicates(data):\n",
    "    data.sort()\n",
    "    new_list=[]\n",
    "    for item in data:\n",
    "        if item not in new_list:\n",
    "            new_list.append(item)\n",
    "    return new_list\n",
    "\n",
    "print(remove_duplicates(data))"
   ]
  },
  {
   "cell_type": "code",
   "execution_count": 34,
   "id": "c7724012",
   "metadata": {},
   "outputs": [
    {
     "name": "stdout",
     "output_type": "stream",
     "text": [
      "{'car': 'Tesla', 'year': 2020, 'model': 's', 'color': 'white'}\n",
      "{'car': 'Kia', 'year': 2012, 'model': 'soul', 'color': 'white'}\n",
      "[{'car': 'Honda', 'year': 2004, 'model': 'civic', 'color': 'red'}, {'car': 'Kia', 'year': 2012, 'model': 'soul', 'color': 'white'}, {'car': 'Ford', 'year': 2013, 'model': 'escape', 'color': 'blue'}, {'car': 'Chevy', 'year': 2014, 'model': 'malibu', 'color': 'black'}, {'car': 'Tesla', 'year': 2020, 'model': 's', 'color': 'white'}]\n"
     ]
    }
   ],
   "source": [
    "def myFunc(cars):\n",
    "  return cars['year']\n",
    "cars.sort(key=myFunc)\n",
    "print(cars[4])\n",
    "print(cars[1<2])\n",
    "print(cars)"
   ]
  },
  {
   "cell_type": "code",
   "execution_count": 42,
   "id": "f01afc64",
   "metadata": {},
   "outputs": [
    {
     "name": "stdout",
     "output_type": "stream",
     "text": [
      "[1, 1, 2, 2, 2, 3]\n"
     ]
    }
   ],
   "source": [
    "data = [1,2,2,3,2,1]\n",
    "\n",
    "def bach(data):\n",
    "    data.sort()\n",
    "    lista = []\n",
    "    for item in data:\n",
    "        lista.append(item)\n",
    "    return lista\n",
    "\n",
    "print(bach(data))\n"
   ]
  },
  {
   "cell_type": "code",
   "execution_count": 46,
   "id": "7d1a0983",
   "metadata": {},
   "outputs": [
    {
     "name": "stdout",
     "output_type": "stream",
     "text": [
      "2\n",
      "1\n",
      "1\n",
      "3\n",
      "5\n",
      "3\n",
      "2\n",
      "2\n",
      "4\n",
      "4\n"
     ]
    }
   ],
   "source": [
    "data = [2,1,1,3,5,3,2,2,4]\n",
    "\n",
    "def newFunk(data):\n",
    "    for i in data:\n",
    "        print(i)\n",
    "    return i\n",
    "print(newFunk(data))"
   ]
  },
  {
   "cell_type": "code",
   "execution_count": null,
   "id": "b773633c",
   "metadata": {},
   "outputs": [],
   "source": []
  }
 ],
 "metadata": {
  "kernelspec": {
   "display_name": "Python 3 (ipykernel)",
   "language": "python",
   "name": "python3"
  },
  "language_info": {
   "codemirror_mode": {
    "name": "ipython",
    "version": 3
   },
   "file_extension": ".py",
   "mimetype": "text/x-python",
   "name": "python",
   "nbconvert_exporter": "python",
   "pygments_lexer": "ipython3",
   "version": "3.8.3"
  }
 },
 "nbformat": 4,
 "nbformat_minor": 5
}
